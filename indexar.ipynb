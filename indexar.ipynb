{
 "cells": [
  {
   "cell_type": "code",
   "execution_count": 4,
   "metadata": {},
   "outputs": [],
   "source": [
    "from langchain.text_splitter import RecursiveCharacterTextSplitter\n",
    "from langchain_core.output_parsers import JsonOutputParser\n",
    "from langchain_community.document_loaders import PyPDFLoader\n",
    "from langchain_community.vectorstores import FAISS, Chroma\n",
    "from langchain_openai import OpenAIEmbeddings, ChatOpenAI\n",
    "from langchain_core.runnables import RunnablePassthrough, RunnableParallel\n",
    "from langchain_core.pydantic_v1 import BaseModel, Field\n",
    "from langchain.prompts import ChatPromptTemplate, PromptTemplate\n",
    "from langchain_community.vectorstores.faiss import DistanceStrategy\n",
    "from time import perf_counter, process_time\n",
    "from langchain.prompts import HumanMessagePromptTemplate, ChatPromptTemplate, MessagesPlaceholder\n",
    "from langchain_openai import AzureChatOpenAI\n",
    "from langchain.chains import LLMChain\n",
    "from langchain.document_loaders import TextLoader, JSONLoader, PyPDFLoader, AzureBlobStorageContainerLoader, AzureAIDataLoader\n",
    "from langchain.text_splitter import CharacterTextSplitter, SpacyTextSplitter\n",
    "from langchain_community.embeddings import FastEmbedEmbeddings\n",
    "from langchain_community.vectorstores.azuresearch import AzureSearch\n",
    "from langchain_chroma import Chroma\n",
    "from langchain.chains import RetrievalQA\n",
    "from langchain_groq import ChatGroq\n",
    "from langchain_text_splitters import RecursiveCharacterTextSplitter\n",
    "from langchain import hub\n",
    "from langchain.chains import LLMChain, SequentialChain\n",
    "from langchain.prompts.prompt import PromptTemplate\n",
    "from langchain_core.runnables import RunnablePassthrough\n",
    "from langchain_core.output_parsers import StrOutputParser\n",
    "from langchain.output_parsers import ResponseSchema, StructuredOutputParser, CommaSeparatedListOutputParser, JsonOutputKeyToolsParser\n",
    "from langchain.memory import VectorStoreRetrieverMemory\n",
    "import os"
   ]
  },
  {
   "cell_type": "code",
   "execution_count": 5,
   "metadata": {},
   "outputs": [
    {
     "name": "stderr",
     "output_type": "stream",
     "text": [
      "c:\\Users\\alvar\\AppData\\Local\\Programs\\Python\\Python311\\Lib\\site-packages\\tqdm\\auto.py:21: TqdmWarning: IProgress not found. Please update jupyter and ipywidgets. See https://ipywidgets.readthedocs.io/en/stable/user_install.html\n",
      "  from .autonotebook import tqdm as notebook_tqdm\n",
      "README.md: 100%|██████████| 28.0/28.0 [00:00<?, ?B/s]s]\n",
      "tokenizer_config.json: 100%|██████████| 1.24k/1.24k [00:00<00:00, 1.24MB/s]\n",
      "c:\\Users\\alvar\\AppData\\Local\\Programs\\Python\\Python311\\Lib\\site-packages\\huggingface_hub\\file_download.py:149: UserWarning: `huggingface_hub` cache-system uses symlinks by default to efficiently store duplicated files but your machine does not support them in C:\\Users\\alvar\\AppData\\Local\\Temp\\fastembed_cache\\models--qdrant--bge-small-en-v1.5-onnx-q. Caching files will still work but in a degraded version that might require more space on your disk. This warning can be disabled by setting the `HF_HUB_DISABLE_SYMLINKS_WARNING` environment variable. For more details, see https://huggingface.co/docs/huggingface_hub/how-to-cache#limitations.\n",
      "To support symlinks on Windows, you either need to activate Developer Mode or to run Python as an administrator. In order to see activate developer mode, see this article: https://docs.microsoft.com/en-us/windows/apps/get-started/enable-your-device-for-development\n",
      "  warnings.warn(message)\n",
      "special_tokens_map.json: 100%|██████████| 695/695 [00:00<?, ?B/s] \n",
      "ort_config.json: 100%|██████████| 1.27k/1.27k [00:00<?, ?B/s]\n",
      "vocab.txt: 100%|██████████| 232k/232k [00:00<00:00, 46.3MB/s]\n",
      "config.json: 100%|██████████| 706/706 [00:00<?, ?B/s] \n",
      "\n",
      ".gitattributes: 100%|██████████| 1.52k/1.52k [00:00<00:00, 1.52MB/s]\n",
      "Fetching 9 files:  11%|█         | 1/9 [00:01<00:11,  1.40s/it]\n",
      "\u001b[A\n",
      "\u001b[A\n",
      "tokenizer.json: 100%|██████████| 711k/711k [00:00<00:00, 1.74MB/s]\n",
      "\n",
      "\u001b[A\n",
      "model_optimized.onnx: 100%|██████████| 66.5M/66.5M [00:00<00:00, 110MB/s]\n",
      "Fetching 9 files: 100%|██████████| 9/9 [00:02<00:00,  4.32it/s]\n"
     ]
    }
   ],
   "source": [
    "embeddings = FastEmbedEmbeddings()"
   ]
  },
  {
   "cell_type": "code",
   "execution_count": 6,
   "metadata": {},
   "outputs": [],
   "source": [
    "text_splitter = CharacterTextSplitter(\n",
    "    separator=\"\\n\",\n",
    "    chunk_size=2000,\n",
    "    chunk_overlap=0\n",
    ")"
   ]
  },
  {
   "cell_type": "code",
   "execution_count": 7,
   "metadata": {},
   "outputs": [
    {
     "name": "stdout",
     "output_type": "stream",
     "text": [
      "Se han generado 6 documentos\n"
     ]
    }
   ],
   "source": [
    "file_path = \"./data/recetas.txt\"\n",
    "\n",
    "#Carga documento\n",
    "loader = TextLoader(file_path)\n",
    "\n",
    "#Aplica el text_splitter al documento\n",
    "docs = loader.load_and_split(\n",
    "    text_splitter=text_splitter\n",
    ")\n",
    "print(f\"Se han generado {len(docs)} documentos\")"
   ]
  },
  {
   "cell_type": "code",
   "execution_count": 8,
   "metadata": {},
   "outputs": [
    {
     "name": "stdout",
     "output_type": "stream",
     "text": [
      " Se ha creado un nuevo vectorstore ./index/index_recetas\n"
     ]
    }
   ],
   "source": [
    "index_path = \"./index/index_recetas\"\n",
    "\n",
    "if os.path.exists(index_path):\n",
    "    vectorstore = Chroma(\n",
    "    persist_directory=index_path,\n",
    "    embedding_function=embeddings\n",
    ")\n",
    "    print(f\"Vectorstore cargado de {index_path}\")\n",
    "else:\n",
    "    \n",
    "    vectorstore = Chroma.from_documents(\n",
    "        documents=docs,\n",
    "        embedding=embeddings,\n",
    "        persist_directory=index_path\n",
    "        )\n",
    "    print(f\" Se ha creado un nuevo vectorstore {index_path}\")"
   ]
  },
  {
   "cell_type": "code",
   "execution_count": 9,
   "metadata": {},
   "outputs": [],
   "source": [
    "retriever = vectorstore.as_retriever(\n",
    "    search_kwargs={\n",
    "        \"k\": 4\n",
    "        }\n",
    ")"
   ]
  },
  {
   "cell_type": "code",
   "execution_count": 10,
   "metadata": {},
   "outputs": [
    {
     "name": "stdout",
     "output_type": "stream",
     "text": [
      "Bienvenido a este libro de recetas de cocina, un compendio culinario que busca deleitar tus sentidos y despertar tu creatividad en la cocina. La comida es mucho mÃ¡s que una simple necesidad fisiolÃ³gica; es un arte, una forma de expresiÃ³n y, sobre todo, una experiencia sensorial que nos conecta con nuestra cultura, tradiciones y con quienes nos rodean.\n",
      "En estas pÃ¡ginas, encontrarÃ¡s una amplia variedad de recetas cuidadosamente seleccionadas para satisfacer todos los gustos y necesidades, desde platos reconfortantes y tradicionales hasta creaciones innovadoras que desafÃ­an los lÃ­mites de la imaginaciÃ³n culinaria. Desde deliciosos entrantes hasta postres exquisitos, cada receta ha sido elaborada con pasiÃ³n y atenciÃ³n al detalle, con el objetivo de inspirarte a explorar en la cocina y descubrir nuevas formas de disfrutar de la comida.\n",
      "La cocina es un espacio de experimentaciÃ³n y aprendizaje constante, donde incluso los errores pueden convertirse en oportunidades para descubrir nuevos sabores y tÃ©cnicas. Por eso, te animo a que te aventures, que te atrevas a probar ingredientes nuevos y a dar rienda suelta a tu creatividad. No hay reglas estrictas en la cocina, solo tu imaginaciÃ³n como lÃ­mite.\n",
      "AdemÃ¡s de las recetas, encontrarÃ¡s Ãºtiles consejos, trucos y tÃ©cnicas que te ayudarÃ¡n a mejorar tus habilidades culinarias y a convertirte en un verdadero maestro de la cocina. Desde cÃ³mo seleccionar los mejores ingredientes hasta tÃ©cnicas de cocciÃ³n y presentaciÃ³n, aquÃ­ encontrarÃ¡s todo lo que necesitas para impresionar a tus invitados y disfrutar de deliciosas comidas en casa.\n",
      "Recuerda que la cocina es un espacio para compartir, tanto con familiares como con amigos. AsÃ­ que no dudes en invitar a tus seres queridos a unirse a ti en esta aventura gastronÃ³mica, compartiendo risas, historias y, por supuesto, deliciosas comidas.\n"
     ]
    }
   ],
   "source": [
    "print(retriever.invoke(\"test\")[0].page_content, flush=True)"
   ]
  },
  {
   "cell_type": "code",
   "execution_count": null,
   "metadata": {},
   "outputs": [],
   "source": []
  }
 ],
 "metadata": {
  "kernelspec": {
   "display_name": "IVA",
   "language": "python",
   "name": "python3"
  },
  "language_info": {
   "codemirror_mode": {
    "name": "ipython",
    "version": 3
   },
   "file_extension": ".py",
   "mimetype": "text/x-python",
   "name": "python",
   "nbconvert_exporter": "python",
   "pygments_lexer": "ipython3",
   "version": "3.11.8"
  }
 },
 "nbformat": 4,
 "nbformat_minor": 2
}
